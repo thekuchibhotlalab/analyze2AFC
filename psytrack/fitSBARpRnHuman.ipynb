{
 "cells": [
  {
   "cell_type": "code",
   "execution_count": 144,
   "metadata": {},
   "outputs": [
    {
     "name": "stdout",
     "output_type": "stream",
     "text": [
      "The autoreload extension is already loaded. To reload it, use:\n",
      "  %reload_ext autoreload\n"
     ]
    }
   ],
   "source": [
    "%matplotlib inline\n",
    "%load_ext autoreload\n",
    "%autoreload 2\n",
    "\n",
    "import numpy as np\n",
    "from matplotlib import pyplot as plt\n",
    "plt.rcParams['figure.dpi'] = 140\n",
    "\n",
    "import psytrack as psy\n",
    "import scipy.io\n",
    "\n",
    "mouseList = ['zz107','zz109','zz111','zz112','zz113','zz115']\n",
    "F = 3\n",
    "mat = scipy.io.loadmat('C:/Users/zzhu34/Documents/tempdata/humanData/psytrack_goodSub.mat',mat_dtype=True)"
   ]
  },
  {
   "cell_type": "code",
   "execution_count": 145,
   "metadata": {},
   "outputs": [
    {
     "data": {
      "text/plain": [
       "(75, 1)"
      ]
     },
     "execution_count": 145,
     "metadata": {},
     "output_type": "execute_result"
    }
   ],
   "source": [
    "mat['stimulus'][0,0].T.shape"
   ]
  },
  {
   "cell_type": "code",
   "execution_count": 146,
   "metadata": {},
   "outputs": [],
   "source": [
    "def fitFull(matTemp, subNum,F):\n",
    "    mat = matTemp.copy();\n",
    "    mat['y'] = mat['y'][subNum,0].flatten();mat['correct'] = mat['correct'][subNum,0].flatten();\n",
    "    #mat['dayLength'] = mat['dayLength'].flatten();#mat['answer'] = mat['answer'].flatten();\n",
    "    mat['inputs'] = {'stimulus': mat['stimulus'][subNum][0].T};\n",
    "    #del mat['stimulus']\n",
    "    \n",
    "    \n",
    "    # STIMULUS ACTION REWARD MODEL\n",
    "    weights = {'bias': 1,  # a special key\n",
    "               'stimulus': 1 }    # use only the first column of s2 from inputs\n",
    "\n",
    "    # It is often useful to have the total number of weights K in your model\n",
    "    K = np.sum([weights[i] for i in weights.keys()]);\n",
    "\n",
    "    hyper= {'sigInit': 2**5.,      # Set to a single, large value for all weights. Will not be optimized further.\n",
    "            'sigma': [2**2.]*K}   # Each weight will have it's own sigma optimized, but all are initialized the same\n",
    "        # Indicates that session boundaries will be ignored in the optimization\n",
    "    optList = ['sigma']\n",
    "    hyp, evd, wMode, hess_info = psy.hyperOpt(mat, hyper, weights, optList)\n",
    "    xval_logli, xval_pL = psy.crossValidate(mat, hyper, weights, optList, F=F, seed=41)\n",
    "\n",
    "    \n",
    "    scipy.io.savemat('C:/Users/zzhu34/Documents/tempdata/humanData/psytrack_sub' + str(subNum+1) + '.mat',\n",
    "                     {'xval_logli':xval_logli, 'xval_pL':xval_pL, 'hyp':hyp, 'evd':evd, 'wMode':wMode, 'hess_info':hess_info,\n",
    "                     'hyper':hyper, 'optList':optList, 'weights':weights, 'K':K})\n",
    "    \n"
   ]
  },
  {
   "cell_type": "code",
   "execution_count": 147,
   "metadata": {},
   "outputs": [
    {
     "name": "stdout",
     "output_type": "stream",
     "text": [
      "\r",
      "Running xval fold 1 of 1"
     ]
    },
    {
     "ename": "Exception",
     "evalue": "getMAP_PBups: y must be parametrized as 1 and 2 only.",
     "output_type": "error",
     "traceback": [
      "\u001b[1;31m---------------------------------------------------------------------------\u001b[0m",
      "\u001b[1;31mException\u001b[0m                                 Traceback (most recent call last)",
      "\u001b[1;32m<ipython-input-147-87aa78aeff29>\u001b[0m in \u001b[0;36m<module>\u001b[1;34m\u001b[0m\n\u001b[0;32m      1\u001b[0m \u001b[1;32mfor\u001b[0m \u001b[0msubNum\u001b[0m \u001b[1;32min\u001b[0m \u001b[0mrange\u001b[0m\u001b[1;33m(\u001b[0m\u001b[1;36m32\u001b[0m\u001b[1;33m)\u001b[0m\u001b[1;33m:\u001b[0m\u001b[1;33m\u001b[0m\u001b[1;33m\u001b[0m\u001b[0m\n\u001b[1;32m----> 2\u001b[1;33m     \u001b[0mfitFull\u001b[0m\u001b[1;33m(\u001b[0m\u001b[0mmat\u001b[0m\u001b[1;33m,\u001b[0m\u001b[0msubNum\u001b[0m\u001b[1;33m,\u001b[0m\u001b[0mF\u001b[0m\u001b[1;33m)\u001b[0m\u001b[1;33m\u001b[0m\u001b[1;33m\u001b[0m\u001b[0m\n\u001b[0m",
      "\u001b[1;32m<ipython-input-146-8125b844d245>\u001b[0m in \u001b[0;36mfitFull\u001b[1;34m(matTemp, subNum, F)\u001b[0m\n\u001b[0;32m     19\u001b[0m     \u001b[0moptList\u001b[0m \u001b[1;33m=\u001b[0m \u001b[1;33m[\u001b[0m\u001b[1;34m'sigma'\u001b[0m\u001b[1;33m]\u001b[0m\u001b[1;33m\u001b[0m\u001b[1;33m\u001b[0m\u001b[0m\n\u001b[0;32m     20\u001b[0m     \u001b[0mhyp\u001b[0m\u001b[1;33m,\u001b[0m \u001b[0mevd\u001b[0m\u001b[1;33m,\u001b[0m \u001b[0mwMode\u001b[0m\u001b[1;33m,\u001b[0m \u001b[0mhess_info\u001b[0m \u001b[1;33m=\u001b[0m \u001b[0mpsy\u001b[0m\u001b[1;33m.\u001b[0m\u001b[0mhyperOpt\u001b[0m\u001b[1;33m(\u001b[0m\u001b[0mmat\u001b[0m\u001b[1;33m,\u001b[0m \u001b[0mhyper\u001b[0m\u001b[1;33m,\u001b[0m \u001b[0mweights\u001b[0m\u001b[1;33m,\u001b[0m \u001b[0moptList\u001b[0m\u001b[1;33m)\u001b[0m\u001b[1;33m\u001b[0m\u001b[1;33m\u001b[0m\u001b[0m\n\u001b[1;32m---> 21\u001b[1;33m     \u001b[0mxval_logli\u001b[0m\u001b[1;33m,\u001b[0m \u001b[0mxval_pL\u001b[0m \u001b[1;33m=\u001b[0m \u001b[0mpsy\u001b[0m\u001b[1;33m.\u001b[0m\u001b[0mcrossValidate\u001b[0m\u001b[1;33m(\u001b[0m\u001b[0mmat\u001b[0m\u001b[1;33m,\u001b[0m \u001b[0mhyper\u001b[0m\u001b[1;33m,\u001b[0m \u001b[0mweights\u001b[0m\u001b[1;33m,\u001b[0m \u001b[0moptList\u001b[0m\u001b[1;33m,\u001b[0m \u001b[0mF\u001b[0m\u001b[1;33m=\u001b[0m\u001b[0mF\u001b[0m\u001b[1;33m,\u001b[0m \u001b[0mseed\u001b[0m\u001b[1;33m=\u001b[0m\u001b[1;36m41\u001b[0m\u001b[1;33m)\u001b[0m\u001b[1;33m\u001b[0m\u001b[1;33m\u001b[0m\u001b[0m\n\u001b[0m\u001b[0;32m     22\u001b[0m \u001b[1;33m\u001b[0m\u001b[0m\n\u001b[0;32m     23\u001b[0m \u001b[1;33m\u001b[0m\u001b[0m\n",
      "\u001b[1;32m~\\AppData\\Local\\Continuum\\anaconda3\\envs\\suite2p\\lib\\site-packages\\psytrack\\helper\\crossValidation.py\u001b[0m in \u001b[0;36mcrossValidate\u001b[1;34m(D, hyper_guess, weight_dict, optList, F, seed, verbose)\u001b[0m\n\u001b[0;32m     29\u001b[0m             \u001b[0mprint\u001b[0m\u001b[1;33m(\u001b[0m\u001b[1;34m\"\\rRunning xval fold \"\u001b[0m \u001b[1;33m+\u001b[0m \u001b[0mstr\u001b[0m\u001b[1;33m(\u001b[0m\u001b[0mf\u001b[0m\u001b[1;33m+\u001b[0m\u001b[1;36m1\u001b[0m\u001b[1;33m)\u001b[0m \u001b[1;33m+\u001b[0m \u001b[1;34m\" of \"\u001b[0m \u001b[1;33m+\u001b[0m \u001b[0mstr\u001b[0m\u001b[1;33m(\u001b[0m\u001b[0mF\u001b[0m\u001b[1;33m)\u001b[0m\u001b[1;33m,\u001b[0m \u001b[0mend\u001b[0m\u001b[1;33m=\u001b[0m\u001b[1;34m\"\"\u001b[0m\u001b[1;33m)\u001b[0m\u001b[1;33m\u001b[0m\u001b[1;33m\u001b[0m\u001b[0m\n\u001b[0;32m     30\u001b[0m         _, _, wMode, _ = hyperOpt(train_dats[f], hyper_guess, weight_dict,\n\u001b[1;32m---> 31\u001b[1;33m                                   optList, hess_calc=None)\n\u001b[0m\u001b[0;32m     32\u001b[0m         logli, gw = xval_loglike(test_dats[f], wMode,\n\u001b[0;32m     33\u001b[0m                                  train_dats[f]['missing_trials'], weight_dict)\n",
      "\u001b[1;32m~\\AppData\\Local\\Continuum\\anaconda3\\envs\\suite2p\\lib\\site-packages\\psytrack\\hyperOpt.py\u001b[0m in \u001b[0;36mhyperOpt\u001b[1;34m(dat, hyper, weights, optList, method, showOpt, jump, hess_calc)\u001b[0m\n\u001b[0;32m     92\u001b[0m             \u001b[0mE0\u001b[0m\u001b[1;33m=\u001b[0m\u001b[0mE0\u001b[0m\u001b[1;33m,\u001b[0m\u001b[1;33m\u001b[0m\u001b[1;33m\u001b[0m\u001b[0m\n\u001b[0;32m     93\u001b[0m             \u001b[0mmethod\u001b[0m\u001b[1;33m=\u001b[0m\u001b[0mmethod\u001b[0m\u001b[1;33m,\u001b[0m\u001b[1;33m\u001b[0m\u001b[1;33m\u001b[0m\u001b[0m\n\u001b[1;32m---> 94\u001b[1;33m             showOpt=int(showOpt > 1))\n\u001b[0m\u001b[0;32m     95\u001b[0m \u001b[1;33m\u001b[0m\u001b[0m\n\u001b[0;32m     96\u001b[0m         \u001b[1;31m# Update best variables\u001b[0m\u001b[1;33m\u001b[0m\u001b[1;33m\u001b[0m\u001b[1;33m\u001b[0m\u001b[0m\n",
      "\u001b[1;32m~\\AppData\\Local\\Continuum\\anaconda3\\envs\\suite2p\\lib\\site-packages\\psytrack\\getMAP.py\u001b[0m in \u001b[0;36mgetMAP\u001b[1;34m(dat, hyper, weights, method, E0, showOpt)\u001b[0m\n\u001b[0;32m     53\u001b[0m         \u001b[0mdat\u001b[0m\u001b[1;33m[\u001b[0m\u001b[1;34m'y'\u001b[0m\u001b[1;33m]\u001b[0m \u001b[1;33m+=\u001b[0m \u001b[1;36m1\u001b[0m\u001b[1;33m\u001b[0m\u001b[1;33m\u001b[0m\u001b[0m\n\u001b[0;32m     54\u001b[0m     \u001b[1;32melif\u001b[0m \u001b[1;32mnot\u001b[0m \u001b[0mnp\u001b[0m\u001b[1;33m.\u001b[0m\u001b[0marray_equal\u001b[0m\u001b[1;33m(\u001b[0m\u001b[0mnp\u001b[0m\u001b[1;33m.\u001b[0m\u001b[0munique\u001b[0m\u001b[1;33m(\u001b[0m\u001b[0mdat\u001b[0m\u001b[1;33m[\u001b[0m\u001b[1;34m'y'\u001b[0m\u001b[1;33m]\u001b[0m\u001b[1;33m)\u001b[0m\u001b[1;33m,\u001b[0m \u001b[1;33m[\u001b[0m\u001b[1;36m1\u001b[0m\u001b[1;33m,\u001b[0m \u001b[1;36m2\u001b[0m\u001b[1;33m]\u001b[0m\u001b[1;33m)\u001b[0m\u001b[1;33m:\u001b[0m\u001b[1;33m\u001b[0m\u001b[1;33m\u001b[0m\u001b[0m\n\u001b[1;32m---> 55\u001b[1;33m         \u001b[1;32mraise\u001b[0m \u001b[0mException\u001b[0m\u001b[1;33m(\u001b[0m\u001b[1;34m'getMAP_PBups: y must be parametrized as 1 and 2 only.'\u001b[0m\u001b[1;33m)\u001b[0m\u001b[1;33m\u001b[0m\u001b[1;33m\u001b[0m\u001b[0m\n\u001b[0m\u001b[0;32m     56\u001b[0m \u001b[1;33m\u001b[0m\u001b[0m\n\u001b[0;32m     57\u001b[0m     \u001b[1;31m# Check and count weights\u001b[0m\u001b[1;33m\u001b[0m\u001b[1;33m\u001b[0m\u001b[1;33m\u001b[0m\u001b[0m\n",
      "\u001b[1;31mException\u001b[0m: getMAP_PBups: y must be parametrized as 1 and 2 only."
     ]
    }
   ],
   "source": [
    "for subNum in range(32):\n",
    "    fitFull(mat,subNum,F)\n"
   ]
  },
  {
   "cell_type": "code",
   "execution_count": 46,
   "metadata": {},
   "outputs": [
    {
     "name": "stdout",
     "output_type": "stream",
     "text": [
      "<class 'int'>\n",
      "<class 'int'>\n",
      "<class 'int'>\n",
      "<class 'int'>\n",
      "<class 'int'>\n",
      "<class 'int'>\n",
      "<class 'int'>\n",
      "<class 'int'>\n",
      "<class 'int'>\n",
      "<class 'int'>\n",
      "<class 'int'>\n",
      "<class 'int'>\n",
      "<class 'int'>\n",
      "<class 'int'>\n",
      "<class 'int'>\n",
      "<class 'int'>\n",
      "<class 'int'>\n",
      "<class 'int'>\n",
      "<class 'int'>\n",
      "<class 'int'>\n",
      "<class 'int'>\n",
      "<class 'int'>\n",
      "<class 'int'>\n",
      "<class 'int'>\n",
      "<class 'int'>\n",
      "<class 'int'>\n",
      "<class 'int'>\n",
      "<class 'int'>\n",
      "<class 'int'>\n",
      "<class 'int'>\n",
      "<class 'int'>\n",
      "<class 'int'>\n"
     ]
    }
   ],
   "source": [
    "for subNum in range(32):\n",
    "    print(type(subNum))"
   ]
  },
  {
   "cell_type": "code",
   "execution_count": null,
   "metadata": {},
   "outputs": [
    {
     "name": "stdout",
     "output_type": "stream",
     "text": [
      "Running xval fold 1 of 5"
     ]
    }
   ],
   "source": [
    "nPrev = 3;\n",
    "for mouse in mouseList:\n",
    "    fitFull(mouse,nPrev,F)"
   ]
  },
  {
   "cell_type": "code",
   "execution_count": 6,
   "metadata": {},
   "outputs": [
    {
     "name": "stdout",
     "output_type": "stream",
     "text": [
      "Running xval fold 5 of 5"
     ]
    }
   ],
   "source": [
    "nPrev = 4;\n",
    "for mouse in mouseList:\n",
    "    fitFull(mouse,nPrev,F)"
   ]
  },
  {
   "cell_type": "code",
   "execution_count": null,
   "metadata": {},
   "outputs": [],
   "source": []
  }
 ],
 "metadata": {
  "kernelspec": {
   "display_name": "Python 3",
   "language": "python",
   "name": "python3"
  },
  "language_info": {
   "codemirror_mode": {
    "name": "ipython",
    "version": 3
   },
   "file_extension": ".py",
   "mimetype": "text/x-python",
   "name": "python",
   "nbconvert_exporter": "python",
   "pygments_lexer": "ipython3",
   "version": "3.7.9"
  }
 },
 "nbformat": 4,
 "nbformat_minor": 2
}

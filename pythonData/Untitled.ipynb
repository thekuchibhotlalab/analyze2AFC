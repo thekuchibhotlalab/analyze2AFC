{
 "cells": [
  {
   "cell_type": "code",
   "execution_count": 41,
   "metadata": {},
   "outputs": [],
   "source": [
    "import numpy as np\n",
    "from matplotlib import pyplot as plt\n",
    "\n",
    "import psytrack as psy\n",
    "import scipy.io\n",
    "import pandas as pd\n",
    "from statsmodels.stats.anova import AnovaRM\n",
    "import pingouin as pg"
   ]
  },
  {
   "cell_type": "code",
   "execution_count": 42,
   "metadata": {},
   "outputs": [
    {
     "data": {
      "text/plain": [
       "dict_keys(['__header__', '__version__', '__globals__', 'subjects', 'tempPlot', 'weights'])"
      ]
     },
     "execution_count": 42,
     "metadata": {},
     "output_type": "execute_result"
    }
   ],
   "source": [
    "mat = scipy.io.loadmat('C:/Users/zzhu34/Documents/gitRep/analyze2AFCObj/pythonData/psytrackW.mat',squeeze_me=True)\n",
    "mat.keys()"
   ]
  },
  {
   "cell_type": "code",
   "execution_count": 45,
   "metadata": {},
   "outputs": [
    {
     "name": "stdout",
     "output_type": "stream",
     "text": [
      "     weights  wLabel  subjects\n",
      "0   1.494164       1         1\n",
      "1   1.024648       1         2\n",
      "2   1.603339       1         3\n",
      "3   1.212936       1         4\n",
      "4   1.416418       1         5\n",
      "..       ...     ...       ...\n",
      "60  0.250948       5         9\n",
      "61  0.696007       5        10\n",
      "62  0.152931       5        11\n",
      "63  0.317357       5        12\n",
      "64  0.006548       5        13\n",
      "\n",
      "[65 rows x 3 columns]\n",
      "                 Anova\n",
      "=======================================\n",
      "         F Value  Num DF  Den DF Pr > F\n",
      "---------------------------------------\n",
      "subjects  3.0348 12.0000 48.0000 0.0031\n",
      "=======================================\n",
      "\n",
      "   Source         SS  DF        MS          F         p-unc     p-GG-corr  \\\n",
      "0  wLabel  11.167575   4  2.791894  42.843033  2.863995e-15  3.129278e-08   \n",
      "1   Error   3.127951  48  0.065166        NaN           NaN           NaN   \n",
      "\n",
      "        ng2      eps sphericity   W-spher   p-spher  \n",
      "0  0.669974  0.46893      False  0.037261  0.000098  \n",
      "1       NaN      NaN        NaN       NaN       NaN  \n"
     ]
    }
   ],
   "source": [
    "dataframe = pd.DataFrame({'weights': mat['tempPlot'],\n",
    "                          'wLabel': mat['weights'],\n",
    "                         'subjects': mat['subjects']})\n",
    "mdl1 = AnovaRM(data=dataframe, depvar='weights',\n",
    "              subject='subjects', within=['wLabel']).fit()\n",
    "print(dataframe)\n",
    "print(a)\n",
    "mdl2 = pg.rm_anova(dv='weights', within='wLabel',\n",
    "                  subject='subjects', data=dataframe, detailed=True)\n",
    "print(mdl2)"
   ]
  },
  {
   "cell_type": "code",
   "execution_count": 58,
   "metadata": {},
   "outputs": [
    {
     "data": {
      "text/plain": [
       "dict_keys(['__header__', '__version__', '__globals__', 'context', 'day', 'subject', 'tempAcc', 'tempBias'])"
      ]
     },
     "execution_count": 58,
     "metadata": {},
     "output_type": "execute_result"
    }
   ],
   "source": [
    "mat = scipy.io.loadmat('C:/Users/zzhu34/Documents/gitRep/analyze2AFCObj/pythonData/reinfProbeData_befAft_2day.mat',squeeze_me=True)\n",
    "mat.keys()"
   ]
  },
  {
   "cell_type": "code",
   "execution_count": 60,
   "metadata": {},
   "outputs": [
    {
     "name": "stdout",
     "output_type": "stream",
     "text": [
      "          Source        SS  ddof1  ddof2        MS          F     p-unc  \\\n",
      "0        context  0.046849      1     10  0.046849   7.060275  0.024018   \n",
      "1            day  0.148774      1     10  0.148774  26.677594  0.000422   \n",
      "2  context * day  0.000976      1     10  0.000976   0.074690  0.790188   \n",
      "\n",
      "   p-GG-corr       np2  eps  \n",
      "0   0.024018  0.413843  1.0  \n",
      "1   0.000422  0.727354  1.0  \n",
      "2   0.790188  0.007414  1.0  \n"
     ]
    }
   ],
   "source": [
    "dataframe = pd.DataFrame({'acc': mat['tempAcc'],\n",
    "                          'day': mat['day'],\n",
    "                          'context': mat['context'],\n",
    "                         'subjects': mat['subject']})\n",
    "aov = pg.rm_anova(dv='acc', within=['context','day'],\n",
    "    subject='subjects', data=dataframe, detailed=True, effsize=\"np2\")\n",
    "print(aov)"
   ]
  },
  {
   "cell_type": "code",
   "execution_count": null,
   "metadata": {},
   "outputs": [],
   "source": []
  }
 ],
 "metadata": {
  "kernelspec": {
   "display_name": "Python 3 (ipykernel)",
   "language": "python",
   "name": "python3"
  },
  "language_info": {
   "codemirror_mode": {
    "name": "ipython",
    "version": 3
   },
   "file_extension": ".py",
   "mimetype": "text/x-python",
   "name": "python",
   "nbconvert_exporter": "python",
   "pygments_lexer": "ipython3",
   "version": "3.10.11"
  }
 },
 "nbformat": 4,
 "nbformat_minor": 4
}
